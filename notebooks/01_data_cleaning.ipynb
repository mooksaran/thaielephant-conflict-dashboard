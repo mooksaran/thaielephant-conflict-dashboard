{
  "nbformat": 4,
  "nbformat_minor": 0,
  "metadata": {
    "colab": {
      "provenance": []
    },
    "kernelspec": {
      "name": "python3",
      "display_name": "Python 3"
    },
    "language_info": {
      "name": "python"
    }
  },
  "cells": [
    {
      "cell_type": "code",
      "execution_count": 7,
      "metadata": {
        "colab": {
          "base_uri": "https://localhost:8080/"
        },
        "id": "G_kPZ5kzCasS",
        "outputId": "49ea5ab4-ce38-4f08-ed33-a056f26cdfd5"
      },
      "outputs": [
        {
          "output_type": "stream",
          "name": "stdout",
          "text": [
            "Deaths: (39, 13)\n",
            "Injuries: (34, 12)\n",
            "Elephants: (91, 5)\n",
            "Networks: (319, 10)\n",
            "<class 'pandas.core.frame.DataFrame'>\n",
            "RangeIndex: 39 entries, 0 to 38\n",
            "Data columns (total 13 columns):\n",
            " #   Column            Non-Null Count  Dtype  \n",
            "---  ------            --------------  -----  \n",
            " 0   _id               39 non-null     int64  \n",
            " 1   พื้นที่รับผิดชอบ  39 non-null     object \n",
            " 2   สถานะ             39 non-null     object \n",
            " 3   วันที่            39 non-null     object \n",
            " 4   เพศ               39 non-null     object \n",
            " 5   กลุ่มป่า          39 non-null     object \n",
            " 6   พื้นที่           26 non-null     object \n",
            " 7   หมู่บ้าน          12 non-null     object \n",
            " 8   หมู่ที่           24 non-null     float64\n",
            " 9   ตำบล              39 non-null     object \n",
            " 10  อำเภอ             39 non-null     object \n",
            " 11  จังหวัด           39 non-null     object \n",
            " 12  หมายเหตุ          3 non-null      object \n",
            "dtypes: float64(1), int64(1), object(11)\n",
            "memory usage: 4.1+ KB\n",
            "<class 'pandas.core.frame.DataFrame'>\n",
            "RangeIndex: 34 entries, 0 to 33\n",
            "Data columns (total 12 columns):\n",
            " #   Column            Non-Null Count  Dtype  \n",
            "---  ------            --------------  -----  \n",
            " 0   _id               34 non-null     int64  \n",
            " 1   พื้นที่รับผิดชอบ  34 non-null     object \n",
            " 2   สถานะ             34 non-null     object \n",
            " 3   วันที่            34 non-null     object \n",
            " 4   เพศ               34 non-null     object \n",
            " 5   กลุ่มป่า          34 non-null     object \n",
            " 6   พื้นที่           18 non-null     object \n",
            " 7   หมู่บ้าน          15 non-null     object \n",
            " 8   หมู่ที่           26 non-null     float64\n",
            " 9   ตำบล              34 non-null     object \n",
            " 10  อำเภอ             34 non-null     object \n",
            " 11  จังหวัด           34 non-null     object \n",
            "dtypes: float64(1), int64(1), object(10)\n",
            "memory usage: 3.3+ KB\n",
            "<class 'pandas.core.frame.DataFrame'>\n",
            "RangeIndex: 91 entries, 0 to 90\n",
            "Data columns (total 5 columns):\n",
            " #   Column              Non-Null Count  Dtype \n",
            "---  ------              --------------  ----- \n",
            " 0   _id                 91 non-null     int64 \n",
            " 1   ประเภท              91 non-null     object\n",
            " 2   พื้นที่ป่าอนุรักษ์  91 non-null     object\n",
            " 3   ครอบคลุมพื้นที่     91 non-null     object\n",
            " 4   จำนวน (ตัว)         52 non-null     object\n",
            "dtypes: int64(1), object(4)\n",
            "memory usage: 3.7+ KB\n",
            "<class 'pandas.core.frame.DataFrame'>\n",
            "RangeIndex: 319 entries, 0 to 318\n",
            "Data columns (total 10 columns):\n",
            " #   Column         Non-Null Count  Dtype  \n",
            "---  ------         --------------  -----  \n",
            " 0   _id            319 non-null    int64  \n",
            " 1   หน่วยงาน       319 non-null    object \n",
            " 2   กลุ่มป่า       319 non-null    object \n",
            " 3   ชื่อเครือข่าย  319 non-null    object \n",
            " 4   หมู่บ้าน       319 non-null    object \n",
            " 5   หมู่ที่        319 non-null    object \n",
            " 6   ตำบล           319 non-null    object \n",
            " 7   อำเภอ          319 non-null    object \n",
            " 8   จังหวัด        319 non-null    object \n",
            " 9   จำนวนสมาชิก    214 non-null    float64\n",
            "dtypes: float64(1), int64(1), object(8)\n",
            "memory usage: 25.1+ KB\n",
            "_id                  0\n",
            "พื้นที่รับผิดชอบ     0\n",
            "สถานะ                0\n",
            "วันที่              33\n",
            "เพศ                  0\n",
            "กลุ่มป่า             0\n",
            "พื้นที่             29\n",
            "หมู่บ้าน            46\n",
            "หมู่ที่             23\n",
            "ตำบล                 0\n",
            "อำเภอ                0\n",
            "จังหวัด              0\n",
            "หมายเหตุ            70\n",
            "เหตุการณ์            0\n",
            "dtype: int64\n"
          ]
        }
      ],
      "source": [
        "# 01_data_cleaning.ipynb\n",
        "\n",
        "import pandas as pd\n",
        "\n",
        "# โหลดไฟล์\n",
        "deaths = pd.read_csv('human_deaths.csv')\n",
        "injuries = pd.read_csv('human_injuries.csv')\n",
        "elephants = pd.read_csv('elephant_population.csv')\n",
        "networks = pd.read_csv('local_networks.csv')\n",
        "\n",
        "# ตรวจสอบเบื้องต้น\n",
        "print(\"Deaths:\", deaths.shape)\n",
        "print(\"Injuries:\", injuries.shape)\n",
        "print(\"Elephants:\", elephants.shape)\n",
        "print(\"Networks:\", networks.shape)\n",
        "\n",
        "# ตรวจสอบคอลัมน์\n",
        "deaths.info()\n",
        "injuries.info()\n",
        "elephants.info()\n",
        "networks.info()\n",
        "\n",
        "# แปลงวันที่ให้เป็น datetime\n",
        "deaths['วันที่'] = pd.to_datetime(deaths['วันที่'], errors='coerce')\n",
        "injuries['วันที่'] = pd.to_datetime(injuries['วันที่'], errors='coerce')\n",
        "\n",
        "# รวมข้อมูลบาดเจ็บและเสียชีวิตเป็น incidents\n",
        "deaths['เหตุการณ์'] = 'เสียชีวิต'\n",
        "injuries['เหตุการณ์'] = 'บาดเจ็บ'\n",
        "incidents = pd.concat([deaths, injuries], ignore_index=True)\n",
        "\n",
        "# เช็ค missing\n",
        "print(incidents.isnull().sum())\n",
        "\n",
        "# บันทึกไฟล์รวมใหม่\n",
        "incidents.to_csv('incidents_combined.csv', index=False)\n"
      ]
    },
    {
      "cell_type": "code",
      "source": [
        "import os\n",
        "os.listdir('/content')"
      ],
      "metadata": {
        "colab": {
          "base_uri": "https://localhost:8080/"
        },
        "id": "MJfIzzhSDVac",
        "outputId": "b479d786-f9af-408c-e583-d9cbf00b710c"
      },
      "execution_count": 8,
      "outputs": [
        {
          "output_type": "execute_result",
          "data": {
            "text/plain": [
              "['.config',\n",
              " 'human_injuries.csv',\n",
              " 'human_deaths.csv',\n",
              " 'incidents_combined.csv',\n",
              " 'local_networks.csv',\n",
              " 'elephant_population.csv',\n",
              " 'sample_data']"
            ]
          },
          "metadata": {},
          "execution_count": 8
        }
      ]
    },
    {
      "cell_type": "code",
      "source": [
        "from google.colab import files\n",
        "files.download('incidents_combined.csv')\n"
      ],
      "metadata": {
        "colab": {
          "base_uri": "https://localhost:8080/",
          "height": 17
        },
        "id": "Xwdk1ZHAEU51",
        "outputId": "3af0154f-ee56-45e7-f980-8bbed9710cde"
      },
      "execution_count": 9,
      "outputs": [
        {
          "output_type": "display_data",
          "data": {
            "text/plain": [
              "<IPython.core.display.Javascript object>"
            ],
            "application/javascript": [
              "\n",
              "    async function download(id, filename, size) {\n",
              "      if (!google.colab.kernel.accessAllowed) {\n",
              "        return;\n",
              "      }\n",
              "      const div = document.createElement('div');\n",
              "      const label = document.createElement('label');\n",
              "      label.textContent = `Downloading \"${filename}\": `;\n",
              "      div.appendChild(label);\n",
              "      const progress = document.createElement('progress');\n",
              "      progress.max = size;\n",
              "      div.appendChild(progress);\n",
              "      document.body.appendChild(div);\n",
              "\n",
              "      const buffers = [];\n",
              "      let downloaded = 0;\n",
              "\n",
              "      const channel = await google.colab.kernel.comms.open(id);\n",
              "      // Send a message to notify the kernel that we're ready.\n",
              "      channel.send({})\n",
              "\n",
              "      for await (const message of channel.messages) {\n",
              "        // Send a message to notify the kernel that we're ready.\n",
              "        channel.send({})\n",
              "        if (message.buffers) {\n",
              "          for (const buffer of message.buffers) {\n",
              "            buffers.push(buffer);\n",
              "            downloaded += buffer.byteLength;\n",
              "            progress.value = downloaded;\n",
              "          }\n",
              "        }\n",
              "      }\n",
              "      const blob = new Blob(buffers, {type: 'application/binary'});\n",
              "      const a = document.createElement('a');\n",
              "      a.href = window.URL.createObjectURL(blob);\n",
              "      a.download = filename;\n",
              "      div.appendChild(a);\n",
              "      a.click();\n",
              "      div.remove();\n",
              "    }\n",
              "  "
            ]
          },
          "metadata": {}
        },
        {
          "output_type": "display_data",
          "data": {
            "text/plain": [
              "<IPython.core.display.Javascript object>"
            ],
            "application/javascript": [
              "download(\"download_d70d1dde-0ce4-4d53-b314-55d548eaf8a5\", \"incidents_combined.csv\", 23087)"
            ]
          },
          "metadata": {}
        }
      ]
    }
  ]
}